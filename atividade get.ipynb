{
 "cells": [
  {
   "cell_type": "markdown",
   "metadata": {},
   "source": [
    "#Você deve criar um programa que simule o cadastro e a consulta de informações de um produto em uma loja."
   ]
  },
  {
   "cell_type": "code",
   "execution_count": 5,
   "metadata": {},
   "outputs": [
    {
     "name": "stdout",
     "output_type": "stream",
     "text": [
      "{'nome': 'Mouse', 'preco': '49.90', 'estoque': '25'}\n"
     ]
    }
   ],
   "source": [
    "produto = {\"nome\":\"Mouse\",\"preco\":49.90, \"estoque\":25}\n",
    "print(produto)"
   ]
  },
  {
   "cell_type": "code",
   "execution_count": 24,
   "metadata": {},
   "outputs": [
    {
     "ename": "AttributeError",
     "evalue": "'str' object has no attribute 'items'",
     "output_type": "error",
     "traceback": [
      "\u001b[31m---------------------------------------------------------------------------\u001b[39m",
      "\u001b[31mAttributeError\u001b[39m                            Traceback (most recent call last)",
      "\u001b[36mCell\u001b[39m\u001b[36m \u001b[39m\u001b[32mIn[24]\u001b[39m\u001b[32m, line 2\u001b[39m\n\u001b[32m      1\u001b[39m \u001b[38;5;28;01mfor\u001b[39;00m i \u001b[38;5;129;01min\u001b[39;00m (produto):\n\u001b[32m----> \u001b[39m\u001b[32m2\u001b[39m     \u001b[38;5;28mprint\u001b[39m(\u001b[43mi\u001b[49m\u001b[43m.\u001b[49m\u001b[43mitems\u001b[49m())\n",
      "\u001b[31mAttributeError\u001b[39m: 'str' object has no attribute 'items'"
     ]
    }
   ],
   "source": [
    "for i in (produto):\n",
    "    print(i.items())"
   ]
  },
  {
   "cell_type": "code",
   "execution_count": 15,
   "metadata": {},
   "outputs": [
    {
     "name": "stdout",
     "output_type": "stream",
     "text": [
      "nome\n"
     ]
    }
   ],
   "source": [
    "usuario = input('Digite o nome da chave que deseja consultar: ')\n",
    "print(usuario)"
   ]
  },
  {
   "cell_type": "code",
   "execution_count": 18,
   "metadata": {},
   "outputs": [
    {
     "name": "stdout",
     "output_type": "stream",
     "text": [
      "Mouse\n"
     ]
    }
   ],
   "source": [
    "print(produto.get(\"nome\"))"
   ]
  },
  {
   "cell_type": "code",
   "execution_count": null,
   "metadata": {},
   "outputs": [],
   "source": []
  },
  {
   "cell_type": "markdown",
   "metadata": {},
   "source": [
    "#Crie um dicionário chamado capitais que armazene o nome de 5 estados brasileiros como chave e o nome de suas respectivas capitais como valor. Depois: mostre todas as capitais cadastradas; permita que o usuário digite o nome de um estado e reorne a sua capital\n"
   ]
  },
  {
   "cell_type": "code",
   "execution_count": 25,
   "metadata": {},
   "outputs": [
    {
     "name": "stdout",
     "output_type": "stream",
     "text": [
      "dict_values(['Rio de Janeiro', 'São Paulo', 'Belo Horizonte', 'Goiania', 'Curitiba'])\n"
     ]
    }
   ],
   "source": [
    "capitais = {\"Rio de Janeiro\":\"Rio de Janeiro\",\"São Paulo\":\"São Paulo\",\"Minas Gerais\":\"Belo Horizonte\",\"Goiás\":\"Goiania\",\"Paraná\":\"Curitiba\"}\n",
    "print(capitais.values())"
   ]
  },
  {
   "cell_type": "code",
   "execution_count": 26,
   "metadata": {},
   "outputs": [
    {
     "name": "stdout",
     "output_type": "stream",
     "text": [
      "Goiania\n"
     ]
    }
   ],
   "source": [
    "capital = input('Digite o nome do estado que deseja visualizar a capital: ')\n",
    "print(capitais.get(capital))"
   ]
  },
  {
   "cell_type": "code",
   "execution_count": 27,
   "metadata": {},
   "outputs": [
    {
     "name": "stdout",
     "output_type": "stream",
     "text": [
      "{'Produto': ['Fogão'], 'Preço': [600.0]}\n"
     ]
    }
   ],
   "source": [
    "produtos = {'Produto': [], 'Preço': []}\n",
    "nome_produto = input('Digite o nome do produto que deseja cadastrar: ')\n",
    "valor_produto = float(input(f'Digite o valor do produto {nome_produto}: '))\n",
    "\n",
    "produtos['Produto'].append(nome_produto)\n",
    "produtos['Preço'].append(valor_produto)\n",
    "\n",
    "print(produtos)"
   ]
  },
  {
   "cell_type": "markdown",
   "metadata": {},
   "source": [
    "#Atividade: Biblioteca de Filmes"
   ]
  },
  {
   "cell_type": "code",
   "execution_count": 38,
   "metadata": {},
   "outputs": [
    {
     "name": "stdout",
     "output_type": "stream",
     "text": [
      "===MENU===\n",
      "1- Adicionar Filme: \n",
      "2- Remover Filme: \n",
      "3- Ver filmees de um usuário: \n",
      "4- Ver todos os usuários: \n",
      "0- Sair\n"
     ]
    }
   ],
   "source": [
    "usuarios_filmes = {'Nome1':'Paulo', 'Filme1': 'O Rei Leão','Nome2':'Maria', 'Filme2':'A Cabana', 'Nome3':'João', 'Filme3':'Street Fighter', 'Nome4':'Caio','Filme4':'Jogos Mortais'}\n",
    "print('===MENU===')\n",
    "print('1- Adicionar Filme: ')\n",
    "print('2- Remover Filme: ')\n",
    "print('3- Ver filmes de um usuário: ')\n",
    "print('4- Ver todos os usuários: ')\n",
    "print('0- Sair')\n",
    "\n",
    "\n",
    "\n"
   ]
  }
 ],
 "metadata": {
  "kernelspec": {
   "display_name": "Python 3",
   "language": "python",
   "name": "python3"
  },
  "language_info": {
   "codemirror_mode": {
    "name": "ipython",
    "version": 3
   },
   "file_extension": ".py",
   "mimetype": "text/x-python",
   "name": "python",
   "nbconvert_exporter": "python",
   "pygments_lexer": "ipython3",
   "version": "3.11.4"
  },
  "orig_nbformat": 4
 },
 "nbformat": 4,
 "nbformat_minor": 2
}
