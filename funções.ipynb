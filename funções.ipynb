{
 "cells": [
  {
   "cell_type": "markdown",
   "metadata": {},
   "source": [
    "Funções sem parâmetros:"
   ]
  },
  {
   "cell_type": "code",
   "execution_count": 3,
   "metadata": {},
   "outputs": [],
   "source": [
    "def saudacao():\n",
    "    print('Bem vindo ao SENAC')\n"
   ]
  },
  {
   "cell_type": "code",
   "execution_count": 2,
   "metadata": {},
   "outputs": [
    {
     "name": "stdout",
     "output_type": "stream",
     "text": [
      "Bem vindo ao SENAC\n"
     ]
    }
   ],
   "source": [
    "saudacao() #No .py é obrigatório o print(saudacao())"
   ]
  },
  {
   "cell_type": "markdown",
   "metadata": {},
   "source": [
    "Funções com parâmetros:"
   ]
  },
  {
   "cell_type": "code",
   "execution_count": 7,
   "metadata": {},
   "outputs": [],
   "source": [
    "def saudacao_parametro(name):\n",
    "    print(f'Bem vindo ao SENAC, {name}.')"
   ]
  },
  {
   "cell_type": "code",
   "execution_count": 8,
   "metadata": {},
   "outputs": [
    {
     "name": "stdout",
     "output_type": "stream",
     "text": [
      "Bem vindo ao SENAC, Naruto.\n"
     ]
    }
   ],
   "source": [
    "nome = 'Naruto'\n",
    "saudacao_parametro(nome)"
   ]
  },
  {
   "cell_type": "markdown",
   "metadata": {},
   "source": [
    "Funções com retorno:"
   ]
  },
  {
   "cell_type": "code",
   "execution_count": 9,
   "metadata": {},
   "outputs": [],
   "source": [
    "def soma(a,b):\n",
    "    return a + b"
   ]
  },
  {
   "cell_type": "code",
   "execution_count": 10,
   "metadata": {},
   "outputs": [
    {
     "name": "stdout",
     "output_type": "stream",
     "text": [
      "25\n"
     ]
    }
   ],
   "source": [
    "resultado = soma(10,15)\n",
    "print(resultado)"
   ]
  },
  {
   "cell_type": "markdown",
   "metadata": {},
   "source": [
    "Atividade 01 - Soma de pares:"
   ]
  },
  {
   "cell_type": "code",
   "execution_count": 11,
   "metadata": {},
   "outputs": [],
   "source": [
    "def soma(a,b,c,d,e,f):\n",
    "    return a + b, c + d, e + f"
   ]
  },
  {
   "cell_type": "code",
   "execution_count": 19,
   "metadata": {},
   "outputs": [
    {
     "name": "stdout",
     "output_type": "stream",
     "text": [
      "A soma do primeiro par é (12, 34, 41), a  soma do segundo par é (12, 34, 41) e a soma do terceiro par é (12, 34, 41).\n"
     ]
    }
   ],
   "source": [
    "resultado1 = soma(5,7,9,25,30,11)\n",
    "print(f'A soma do primeiro par é {resultado}, a  soma do segundo par é {resultado} e a soma do terceiro par é {resultado}.')"
   ]
  },
  {
   "cell_type": "markdown",
   "metadata": {},
   "source": [
    "Atividade 02 - Controle de Velocidade:"
   ]
  },
  {
   "cell_type": "code",
   "execution_count": null,
   "metadata": {},
   "outputs": [],
   "source": [
    "#Infração Leve: Excesso de até 10% acima do limite permitido. R$180,00\n",
    "#Infração Média: Excesso entre 10% e 30% acima do limite. R$340,56\n",
    "#Infração Grave: Excesso acima de 30%. R$480,98\n",
    "#Crie uma função que receba a velocidade da via e a velocidade que o veículo passou. Retorne ao cidadão o valor a ser pago. "
   ]
  },
  {
   "cell_type": "code",
   "execution_count": 49,
   "metadata": {},
   "outputs": [],
   "source": [
    "def multa(velocidade, passada):\n",
    "    ate_10 = velocidade+(velocidade*0.1)\n",
    "    ate_20 = velocidade+(velocidade*0.2)\n",
    "    ate_30 = velocidade+(velocidade*0.3)\n",
    "    excesso = ((passada - velocidade)/velocidade)*100\n",
    "    if passada < ate_10:\n",
    "        print('Parabéns, você não recebeu multa.')\n",
    "    elif passada >= ate_10 and passada == ate_20:\n",
    "        print(f'Seu veículo excedeu em {excesso:.2f}.Você cometeu uma infração Leve, e recebeu uma multa de R$180,00.')\n",
    "    elif passada >= ate_20 and passada == ate_30:\n",
    "        print(f'Seu veículo excedeu em {excesso:.2f}.Você cometeu uma infração Média, e recebeu uma multa de R$340,56.')\n",
    "    else:\n",
    "        print(f'Seu veículo excedeu em {excesso:.2f}.Você cometeu uma infração Grave, e recebeu uma multa de R$480,98.')\n",
    "    "
   ]
  },
  {
   "cell_type": "code",
   "execution_count": 50,
   "metadata": {},
   "outputs": [
    {
     "name": "stdout",
     "output_type": "stream",
     "text": [
      "Seu veículo excedeu em 20.00.Você cometeu uma infração Leve, e recebeu uma multa de R$180,00.\n"
     ]
    }
   ],
   "source": [
    "multa(100,120)"
   ]
  },
  {
   "cell_type": "markdown",
   "metadata": {},
   "source": [
    "Atividade 03 - Taxa Metabólica Basal (TMB)"
   ]
  },
  {
   "cell_type": "code",
   "execution_count": null,
   "metadata": {},
   "outputs": [],
   "source": [
    "#Crie um programa em Python que calcule a Taxa Metabólica Basal (TMB) de uma pessoa utilizando a fórmula de Harris Benedict. \n",
    "#O programa deve conter uma função com parâmetros que receba os seguintes dados:\n",
    "#Sexo (masculino ou feminino)\n",
    "#Peso (em kg)\n",
    "#Altura (em cm)\n",
    "#Idade (em anos)\n",
    "#A função deve aplicar a fórmula correspondente ao sexo informado e retornar o valor da TMB.\n",
    "#Fórmulas: Homens = TMB=66.5+(13.75*peso em kg)+(5.003*altura em cm)-(6.755*idade)\n",
    "#Mulheres = TMB=655.1+(9.563*peso em kg)+(1.850*altura em cm)-(4.676*idade) \n"
   ]
  },
  {
   "cell_type": "code",
   "execution_count": 52,
   "metadata": {},
   "outputs": [],
   "source": [
    "def TMB(sexo, peso, altura, idade):\n",
    "    \n",
    "    if sexo == 'homem':\n",
    "        TMB = 66.5+(13.75*peso)+(5.003*altura)-(6.755*idade)\n",
    "    elif sexo == 'mulher':\n",
    "        TMB = 65.1+(9.563*peso)+(1.850*altura)-(4.676*idade)\n",
    "\n",
    "sexo = input('Qual o seu sexo? ')\n",
    "peso = float(input('Qual o seu peso em kg? '))\n",
    "altura = float(input('Qual sua altura em cm? '))\n",
    "idade = int(input('Qual a sua idade:? '))\n",
    "  \n",
    "\n",
    "\n",
    "   \n",
    "\n",
    "   "
   ]
  }
 ],
 "metadata": {
  "kernelspec": {
   "display_name": "Python 3",
   "language": "python",
   "name": "python3"
  },
  "language_info": {
   "codemirror_mode": {
    "name": "ipython",
    "version": 3
   },
   "file_extension": ".py",
   "mimetype": "text/x-python",
   "name": "python",
   "nbconvert_exporter": "python",
   "pygments_lexer": "ipython3",
   "version": "3.11.4"
  },
  "orig_nbformat": 4
 },
 "nbformat": 4,
 "nbformat_minor": 2
}
