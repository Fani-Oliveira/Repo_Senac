{
 "cells": [
  {
   "cell_type": "code",
   "execution_count": 413,
   "id": "e3e60e59",
   "metadata": {},
   "outputs": [],
   "source": [
    "import numpy as np\n",
    "import pandas as pd\n",
    "import matplotlib.pyplot as plt"
   ]
  },
  {
   "cell_type": "markdown",
   "id": "a070d6ca",
   "metadata": {},
   "source": [
    "Ex: 1"
   ]
  },
  {
   "cell_type": "code",
   "execution_count": 414,
   "id": "0e698dad",
   "metadata": {},
   "outputs": [
    {
     "data": {
      "text/plain": [
       "\"dados_array = np.array([5, 8, 12, 15, 20, 25, 30])\\nminimo = np.min(dados_array)\\nmaximo = np.max(dados_array)\\namplitude = maximo - minimo\\n\\nprint(f'Máximo: {maximo} \\nMínimo: {minimo} \\nAmplitude:{amplitude}')\""
      ]
     },
     "execution_count": 414,
     "metadata": {},
     "output_type": "execute_result"
    }
   ],
   "source": [
    "'''dados_array = np.array([5, 8, 12, 15, 20, 25, 30])\n",
    "minimo = np.min(dados_array)\n",
    "maximo = np.max(dados_array)\n",
    "amplitude = maximo - minimo\n",
    "\n",
    "print(f'Máximo: {maximo} \\nMínimo: {minimo} \\nAmplitude:{amplitude}')'''"
   ]
  },
  {
   "cell_type": "markdown",
   "id": "e6c647fd",
   "metadata": {},
   "source": [
    "Ex: 2"
   ]
  },
  {
   "cell_type": "code",
   "execution_count": 415,
   "id": "8fe6c2bb",
   "metadata": {},
   "outputs": [
    {
     "data": {
      "text/html": [
       "<div>\n",
       "<style scoped>\n",
       "    .dataframe tbody tr th:only-of-type {\n",
       "        vertical-align: middle;\n",
       "    }\n",
       "\n",
       "    .dataframe tbody tr th {\n",
       "        vertical-align: top;\n",
       "    }\n",
       "\n",
       "    .dataframe thead th {\n",
       "        text-align: right;\n",
       "    }\n",
       "</style>\n",
       "<table border=\"1\" class=\"dataframe\">\n",
       "  <thead>\n",
       "    <tr style=\"text-align: right;\">\n",
       "      <th></th>\n",
       "      <th>vendedores</th>\n",
       "      <th>valores_vendidos</th>\n",
       "    </tr>\n",
       "  </thead>\n",
       "  <tbody>\n",
       "    <tr>\n",
       "      <th>30</th>\n",
       "      <td>Trunks</td>\n",
       "      <td>1750000</td>\n",
       "    </tr>\n",
       "    <tr>\n",
       "      <th>24</th>\n",
       "      <td>Cristiano Ronaldo</td>\n",
       "      <td>977627</td>\n",
       "    </tr>\n",
       "    <tr>\n",
       "      <th>3</th>\n",
       "      <td>Liam Sullivan</td>\n",
       "      <td>976649</td>\n",
       "    </tr>\n",
       "    <tr>\n",
       "      <th>14</th>\n",
       "      <td>Ryan Seymour</td>\n",
       "      <td>974367</td>\n",
       "    </tr>\n",
       "    <tr>\n",
       "      <th>11</th>\n",
       "      <td>Dallas Lansfield</td>\n",
       "      <td>946157</td>\n",
       "    </tr>\n",
       "    <tr>\n",
       "      <th>18</th>\n",
       "      <td>Elle Butler</td>\n",
       "      <td>939142</td>\n",
       "    </tr>\n",
       "    <tr>\n",
       "      <th>22</th>\n",
       "      <td>Jill Simon</td>\n",
       "      <td>874694</td>\n",
       "    </tr>\n",
       "    <tr>\n",
       "      <th>10</th>\n",
       "      <td>Harry Kane</td>\n",
       "      <td>831495</td>\n",
       "    </tr>\n",
       "    <tr>\n",
       "      <th>12</th>\n",
       "      <td>Maven Wood</td>\n",
       "      <td>759342</td>\n",
       "    </tr>\n",
       "    <tr>\n",
       "      <th>20</th>\n",
       "      <td>Paige Bartlett</td>\n",
       "      <td>717014</td>\n",
       "    </tr>\n",
       "    <tr>\n",
       "      <th>25</th>\n",
       "      <td>Vegetti</td>\n",
       "      <td>704410</td>\n",
       "    </tr>\n",
       "    <tr>\n",
       "      <th>29</th>\n",
       "      <td>Léo Jardim</td>\n",
       "      <td>663364</td>\n",
       "    </tr>\n",
       "    <tr>\n",
       "      <th>6</th>\n",
       "      <td>Lily Galloway</td>\n",
       "      <td>576366</td>\n",
       "    </tr>\n",
       "    <tr>\n",
       "      <th>26</th>\n",
       "      <td>Philippe Coutinho</td>\n",
       "      <td>545052</td>\n",
       "    </tr>\n",
       "    <tr>\n",
       "      <th>13</th>\n",
       "      <td>Julie Lansfield</td>\n",
       "      <td>511689</td>\n",
       "    </tr>\n",
       "    <tr>\n",
       "      <th>4</th>\n",
       "      <td>Madeline Galloway</td>\n",
       "      <td>505639</td>\n",
       "    </tr>\n",
       "    <tr>\n",
       "      <th>27</th>\n",
       "      <td>Paulo Henrique</td>\n",
       "      <td>476366</td>\n",
       "    </tr>\n",
       "    <tr>\n",
       "      <th>9</th>\n",
       "      <td>Alana Sullivan</td>\n",
       "      <td>468491</td>\n",
       "    </tr>\n",
       "    <tr>\n",
       "      <th>0</th>\n",
       "      <td>Emmy Miller</td>\n",
       "      <td>458294</td>\n",
       "    </tr>\n",
       "    <tr>\n",
       "      <th>21</th>\n",
       "      <td>Oliver Gage</td>\n",
       "      <td>367955</td>\n",
       "    </tr>\n",
       "    <tr>\n",
       "      <th>2</th>\n",
       "      <td>Piper Mitchell</td>\n",
       "      <td>311372</td>\n",
       "    </tr>\n",
       "    <tr>\n",
       "      <th>17</th>\n",
       "      <td>Theo Kershaw</td>\n",
       "      <td>247736</td>\n",
       "    </tr>\n",
       "    <tr>\n",
       "      <th>28</th>\n",
       "      <td>Nuno Moreira</td>\n",
       "      <td>238120</td>\n",
       "    </tr>\n",
       "    <tr>\n",
       "      <th>5</th>\n",
       "      <td>Hudson Hayes</td>\n",
       "      <td>215382</td>\n",
       "    </tr>\n",
       "    <tr>\n",
       "      <th>1</th>\n",
       "      <td>Maverick Miller</td>\n",
       "      <td>170684</td>\n",
       "    </tr>\n",
       "    <tr>\n",
       "      <th>8</th>\n",
       "      <td>Ethan Richardson</td>\n",
       "      <td>157541</td>\n",
       "    </tr>\n",
       "    <tr>\n",
       "      <th>23</th>\n",
       "      <td>Hallie Gage</td>\n",
       "      <td>148577</td>\n",
       "    </tr>\n",
       "    <tr>\n",
       "      <th>19</th>\n",
       "      <td>Ace Carmichael</td>\n",
       "      <td>134165</td>\n",
       "    </tr>\n",
       "    <tr>\n",
       "      <th>16</th>\n",
       "      <td>Brody Sounders</td>\n",
       "      <td>122267</td>\n",
       "    </tr>\n",
       "    <tr>\n",
       "      <th>7</th>\n",
       "      <td>Grant Everett</td>\n",
       "      <td>85306</td>\n",
       "    </tr>\n",
       "    <tr>\n",
       "      <th>15</th>\n",
       "      <td>Lexi Armstrong</td>\n",
       "      <td>9849</td>\n",
       "    </tr>\n",
       "  </tbody>\n",
       "</table>\n",
       "</div>"
      ],
      "text/plain": [
       "           vendedores  valores_vendidos\n",
       "30             Trunks           1750000\n",
       "24  Cristiano Ronaldo            977627\n",
       "3       Liam Sullivan            976649\n",
       "14       Ryan Seymour            974367\n",
       "11   Dallas Lansfield            946157\n",
       "18        Elle Butler            939142\n",
       "22         Jill Simon            874694\n",
       "10         Harry Kane            831495\n",
       "12         Maven Wood            759342\n",
       "20     Paige Bartlett            717014\n",
       "25            Vegetti            704410\n",
       "29         Léo Jardim            663364\n",
       "6       Lily Galloway            576366\n",
       "26  Philippe Coutinho            545052\n",
       "13    Julie Lansfield            511689\n",
       "4   Madeline Galloway            505639\n",
       "27     Paulo Henrique            476366\n",
       "9      Alana Sullivan            468491\n",
       "0         Emmy Miller            458294\n",
       "21        Oliver Gage            367955\n",
       "2      Piper Mitchell            311372\n",
       "17       Theo Kershaw            247736\n",
       "28       Nuno Moreira            238120\n",
       "5        Hudson Hayes            215382\n",
       "1     Maverick Miller            170684\n",
       "8    Ethan Richardson            157541\n",
       "23        Hallie Gage            148577\n",
       "19     Ace Carmichael            134165\n",
       "16     Brody Sounders            122267\n",
       "7       Grant Everett             85306\n",
       "15     Lexi Armstrong              9849"
      ]
     },
     "execution_count": 415,
     "metadata": {},
     "output_type": "execute_result"
    }
   ],
   "source": [
    "import random\n",
    "\n",
    "vendedores = [\n",
    "    'Emmy Miller',\n",
    "    'Maverick Miller',\n",
    "    'Piper Mitchell',\n",
    "    'Liam Sullivan',\n",
    "    'Madeline Galloway',\n",
    "    'Hudson Hayes',\n",
    "    'Lily Galloway',\n",
    "    'Grant Everett',\n",
    "    'Ethan Richardson',\n",
    "    'Alana Sullivan',\n",
    "    'Harry Kane',\n",
    "    'Dallas Lansfield',\n",
    "    'Maven Wood',\n",
    "    'Julie Lansfield',\n",
    "    'Ryan Seymour',\n",
    "    'Lexi Armstrong',\n",
    "    'Brody Sounders',\n",
    "    'Theo Kershaw',\n",
    "    'Elle Butler',\n",
    "    'Ace Carmichael',\n",
    "    'Paige Bartlett',\n",
    "    'Oliver Gage',\n",
    "    'Jill Simon',\n",
    "    'Hallie Gage',\n",
    "    'Cristiano Ronaldo',\n",
    "    'Vegetti',\n",
    "    'Philippe Coutinho',\n",
    "    'Paulo Henrique',\n",
    "    'Nuno Moreira',\n",
    "    'Léo Jardim',]\n",
    "\n",
    "valores_vendidos = [random.randint(1000, 1000000) for i in vendedores] #randint: começar em mil, terminar em 1 milhão\n",
    "\n",
    "valores_vendidos.append(1750000)\n",
    "vendedores.append('Trunks')\n",
    "\n",
    "dados_vendas = {'vendedores': vendedores,\n",
    "                'valores_vendidos': valores_vendidos}\n",
    "\n",
    "df = pd.DataFrame(dados_vendas)\n",
    "df.sort_values(by= 'valores_vendidos', ascending= False, inplace= True)\n",
    "df\n"
   ]
  },
  {
   "cell_type": "code",
   "execution_count": 416,
   "id": "161829f7",
   "metadata": {},
   "outputs": [],
   "source": [
    "valores_vendidos_array = np.array(df['valores_vendidos'])"
   ]
  },
  {
   "cell_type": "code",
   "execution_count": 417,
   "id": "ed18d77c",
   "metadata": {},
   "outputs": [
    {
     "data": {
      "text/plain": [
       "<function matplotlib.pyplot.show(close=None, block=None)>"
      ]
     },
     "execution_count": 417,
     "metadata": {},
     "output_type": "execute_result"
    },
    {
     "data": {
      "image/png": "[encoded data removed]",
      "text/plain": [
       "<Figure size 1500x1000 with 1 Axes>"
      ]
     },
     "metadata": {},
     "output_type": "display_data"
    }
   ],
   "source": [
    "plt.figure(figsize= (15, 10))\n",
    "plt.boxplot(valores_vendidos_array, vert= False, showmeans= True)\n",
    "plt.title('')\n",
    "plt.show"
   ]
  },
  {
   "cell_type": "code",
   "execution_count": null,
   "id": "33e1726d",
   "metadata": {},
   "outputs": [],
   "source": [
    "import random\n",
    "valores = [293, 781, 45, 502, 867, 119, 340, 659, \n",
    "           223, 714, 56, 394, 827, 165, 612, 428, \n",
    "           970, 388, 250, 809, 117, 473, 639, 284, \n",
    "           931, 503, 144, 367, 788, 621, 201, 556, \n",
    "           840, 92, 717, 326, 474, 669, 133, 581,\n",
    "           48, 390, 720, 259, 836, 187, 645, 412, \n",
    "           999, 308, 157, 434, 674, 222, 510, 783, \n",
    "           68, 395, 611, 274, 49, 351, 803, 177, \n",
    "           643, 290, 927, 519, 103, 361, 586, 705, \n",
    "           215, 448, 678, 127, 539, 821, 47, 309,\n",
    "           594, 729, 88, 472, 660, 191, 528, 377, \n",
    "           802, 135, 665, 284, 713, 405, 949, 230, \n",
    "           586, 679, 120, 333]\n",
    "\n",
    "valores = [random.randint(1, 100) for i in range] #randint: começar em mil, terminar em 1 milhão\n",
    "\n",
    "valores.append(1750000)\n",
    "\n",
    "valores = {'valores': valores}\n",
    "df = pd.DataFrame(valores)\n",
    "df"
   ]
  },
  {
   "cell_type": "code",
   "execution_count": 419,
   "id": "ce39e08a",
   "metadata": {},
   "outputs": [],
   "source": [
    "valores_array = np.array(df['valores'])"
   ]
  },
  {
   "cell_type": "code",
   "execution_count": 420,
   "id": "7e98f12a",
   "metadata": {},
   "outputs": [
    {
     "name": "stdout",
     "output_type": "stream",
     "text": [
      "Máximo: 999 \n",
      "Mínimo: 45 \n",
      "Amplitude:954\n",
      "Média: 460.68\n",
      "Mediana: 441.0\n",
      "Distância: 4.46 %\n",
      "Limite Superior: 1333.25\n",
      "Limite Inferior: -434.75\n",
      "Q3: 670.25\n"
     ]
    }
   ],
   "source": [
    "mediana = np.median(valores_array)\n",
    "media = np.mean(valores_array)\n",
    "q1 = np.percentile(valores_array, 25)\n",
    "q2 = np.percentile(valores_array, 50)\n",
    "q3 = np.percentile (valores_array, 75)\n",
    "distancia = (media - mediana)/mediana\n",
    "iqr = q3 - q1\n",
    "limite_superior = q3 + (1.5 * iqr)\n",
    "limite_inferior = q1 - (1.5 * iqr)\n",
    "minimo = np.min(valores_array)\n",
    "maximo = np.max(valores_array)\n",
    "amplitude = maximo - minimo\n",
    "print(f'Máximo: {maximo} \\nMínimo: {minimo} \\nAmplitude:{amplitude}')\n",
    "print(f'Média: {media}')\n",
    "print(f'Mediana: {mediana}')\n",
    "print(f'Distância: {round(distancia*100,2)} %')\n",
    "print(f'Limite Superior: {limite_superior}')\n",
    "print(f'Limite Inferior: {limite_inferior}')\n",
    "print(f'Q3: {q3}')"
   ]
  },
  {
   "cell_type": "code",
   "execution_count": 429,
   "id": "e7c6f0cc",
   "metadata": {},
   "outputs": [
    {
     "data": {
      "image/png": "[encoded data removed]",
      "text/plain": [
       "<Figure size 1200x800 with 2 Axes>"
      ]
     },
     "metadata": {},
     "output_type": "display_data"
    }
   ],
   "source": [
    "fig, axs = plt.subplots(1,2, figsize= (12,8)) \n",
    "axs [0].boxplot(valores_array, vert= False, showmeans= True)\n",
    "axs [1].axis('off')\n",
    "\n",
    "axs[1].text(0.1, 1, 'Dados Estatísticos:', fontsize=14,)\n",
    "axs[1].text(0.1, 0.8, 'Média: 460,68', fontsize=12,)\n",
    "axs[1].text(0.1, 0.7, 'Mediana: 441', fontsize=12)\n",
    "axs[1].text(0.1, 0.6, 'Distância: 4,46%', fontsize=12)\n",
    "axs[1].text(0.1, 0.5, 'Limite Superior: 1.333,25', fontsize=12)\n",
    "axs[1].text(0.1, 0.4, 'Mínimo: 45', fontsize=12)\n",
    "axs[1].text(0.1, 0.3, 'Máximo: 999', fontsize=12)\n",
    "axs[1].text(0.1, 0.2, 'Amplitude: 954', fontsize=12)\n",
    "\n",
    "plt.tight_layout()\n",
    "\n",
    "plt.show()\n",
    "\n"
   ]
  },
  {
   "cell_type": "code",
   "execution_count": 432,
   "id": "962b6a2c",
   "metadata": {},
   "outputs": [
    {
     "name": "stdout",
     "output_type": "stream",
     "text": [
      "Média: 6.0\n",
      "Variância: 8.0\n",
      "Desvio Padrão: 2.8284271247461903\n",
      "Coeficiente de Variação: 47.14045207910317\n",
      "Distância da variância em relação à média: 22.22222222222222\n"
     ]
    }
   ],
   "source": [
    "dados_array = np.array([2, 4, 6, 8, 10])\n",
    "media = np.mean(dados_array)\n",
    "variancia = np.var(dados_array)\n",
    "desvio_padrao = np.std(dados_array)\n",
    "coeficiente_variacao = (desvio_padrao/ media)*100\n",
    "distancia_variancia = (variancia / (media ** 2))*100\n",
    "print(\"Média:\", media)\n",
    "print(\"Variância:\", variancia)\n",
    "print(\"Desvio Padrão:\", desvio_padrao)\n",
    "print(\"Coeficiente de Variação:\", coeficiente_variacao)\n",
    "print(\"Distância da variância em relação à média:\", distancia_variancia)"
   ]
  }
 ],
 "metadata": {
  "kernelspec": {
   "display_name": "Python 3",
   "language": "python",
   "name": "python3"
  },
  "language_info": {
   "codemirror_mode": {
    "name": "ipython",
    "version": 3
   },
   "file_extension": ".py",
   "mimetype": "text/x-python",
   "name": "python",
   "nbconvert_exporter": "python",
   "pygments_lexer": "ipython3",
   "version": "3.11.4"
  }
 },
 "nbformat": 4,
 "nbformat_minor": 5
}
